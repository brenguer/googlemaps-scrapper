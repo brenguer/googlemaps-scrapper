{
 "cells": [
  {
   "cell_type": "code",
   "execution_count": null,
   "metadata": {},
   "outputs": [],
   "source": [
    "import pandas as pd\n",
    "\n",
    "# Carregar os dois CSVs\n",
    "csv1 = pd.read_csv('scraped_google_maps_data1.csv')\n",
    "csv2 = pd.read_csv('scraped_google_maps_data2.csv')\n",
    "csv3 = pd.read_csv('scraped_google_maps_data3.csv')\n",
    "csv4 = pd.read_csv('scraped_google_maps_data.csv')\n",
    "\n",
    "# Concatenar os dois DataFrames verticalmente (empilhar as linhas)\n",
    "df_concatenado = pd.concat([csv1, csv2, csv3, csv4], ignore_index=True)"
   ]
  },
  {
   "cell_type": "code",
   "execution_count": null,
   "metadata": {},
   "outputs": [],
   "source": [
    "# Primeira validação de duplicados (geral)\n",
    "duplicados_gerais = df_concatenado[df_concatenado.duplicated()]\n",
    "print(f\"Total de dados duplicados (gerais): {duplicados_gerais.shape[0]}\")\n",
    "\n",
    "# Remover duplicados gerais\n",
    "df_sem_duplicados_gerais = df_concatenado.drop_duplicates()"
   ]
  },
  {
   "cell_type": "code",
   "execution_count": null,
   "metadata": {},
   "outputs": [],
   "source": [
    "# Segunda validação de duplicados com base na coluna 'Phone'\n",
    "duplicados_phone = df_sem_duplicados_gerais[df_sem_duplicados_gerais.duplicated(subset=['Phone'])]\n",
    "print(f\"Total de dados duplicados com base na coluna 'Phone': {duplicados_phone.shape[0]}\")"
   ]
  },
  {
   "cell_type": "code",
   "execution_count": null,
   "metadata": {},
   "outputs": [],
   "source": [
    "# Remover duplicados com base na coluna 'Phone'\n",
    "df_sem_duplicados_phone = df_sem_duplicados_gerais.drop_duplicates(subset=['Phone'])\n",
    "\n",
    "# Verificar quantos dados ficaram após a remoção dos duplicados\n",
    "print(f\"Total de dados após remoção de duplicados com base no 'Phone': {df_sem_duplicados_phone.shape[0]}\")"
   ]
  },
  {
   "cell_type": "code",
   "execution_count": null,
   "metadata": {},
   "outputs": [],
   "source": [
    "# Salvar o DataFrame final sem duplicados em um novo CSV\n",
    "df_sem_duplicados_phone.to_csv('concatenado_sem_duplicados_phone.csv', index=False)\n",
    "\n",
    "print(\"Novo CSV criado com os dados não duplicados (baseado em 'Phone') e concatenados.\")"
   ]
  }
 ],
 "metadata": {
  "language_info": {
   "name": "python"
  }
 },
 "nbformat": 4,
 "nbformat_minor": 2
}
